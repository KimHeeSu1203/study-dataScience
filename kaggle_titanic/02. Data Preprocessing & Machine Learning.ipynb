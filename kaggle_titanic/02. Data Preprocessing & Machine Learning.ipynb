{
 "cells": [
  {
   "cell_type": "code",
   "execution_count": 1,
   "id": "78a06a79",
   "metadata": {},
   "outputs": [
    {
     "name": "stdout",
     "output_type": "stream",
     "text": [
      "<class 'pandas.core.frame.DataFrame'>\n",
      "RangeIndex: 891 entries, 0 to 890\n",
      "Data columns (total 11 columns):\n",
      " #   Column          Non-Null Count  Dtype\n",
      "---  ------          --------------  -----\n",
      " 0   Survived        891 non-null    int64\n",
      " 1   Pclass          891 non-null    int64\n",
      " 2   Sex             891 non-null    int64\n",
      " 3   Embarked        891 non-null    int64\n",
      " 4   Title           891 non-null    int64\n",
      " 5   AgeCategory     891 non-null    int64\n",
      " 6   CabinCategory   891 non-null    int64\n",
      " 7   FareCategory    891 non-null    int64\n",
      " 8   Family          891 non-null    int64\n",
      " 9   IsAlone         891 non-null    int64\n",
      " 10  TicketCategory  891 non-null    int64\n",
      "dtypes: int64(11)\n",
      "memory usage: 76.7 KB\n",
      "<class 'pandas.core.frame.DataFrame'>\n",
      "RangeIndex: 418 entries, 0 to 417\n",
      "Data columns (total 10 columns):\n",
      " #   Column          Non-Null Count  Dtype\n",
      "---  ------          --------------  -----\n",
      " 0   Pclass          418 non-null    int64\n",
      " 1   Sex             418 non-null    int64\n",
      " 2   Embarked        418 non-null    int64\n",
      " 3   Title           418 non-null    int64\n",
      " 4   AgeCategory     418 non-null    int64\n",
      " 5   CabinCategory   418 non-null    int64\n",
      " 6   FareCategory    418 non-null    int64\n",
      " 7   Family          418 non-null    int64\n",
      " 8   IsAlone         418 non-null    int64\n",
      " 9   TicketCategory  418 non-null    int64\n",
      "dtypes: int64(10)\n",
      "memory usage: 32.8 KB\n"
     ]
    }
   ],
   "source": [
    "import pandas as pd\n",
    "\n",
    "train = pd.read_csv(\"https://raw.githubusercontent.com/developer-sdk/kaggle-python-beginner/master/datas/kaggle-titanic/train.csv\")\n",
    "test = pd.read_csv(\"https://raw.githubusercontent.com/developer-sdk/kaggle-python-beginner/master/datas/kaggle-titanic/test.csv\")\n",
    "\n",
    "def feature_engineering(df):\n",
    "    # Sex\n",
    "    df['Sex'] = df['Sex'].map({'female': 0, 'male': 1})\n",
    "\n",
    "    # Embarked\n",
    "    df.Embarked.fillna('S', inplace=True)\n",
    "    df['Embarked'] = df['Embarked'].map({'C': 0, 'Q': 1, 'S': 2})\n",
    "\n",
    "    # Title\n",
    "    df['Title'] = df.Name.str.extract(' ([A-Za-z]+)\\.')\n",
    "    df['Title'] = df['Title'].replace(['Capt', 'Col', 'Countess', 'Don','Dona', 'Dr', 'Jonkheer', 'Lady','Major', 'Rev', 'Sir'], 'Other')\n",
    "    df['Title'] = df['Title'].replace('Mlle', 'Miss')\n",
    "    df['Title'] = df['Title'].replace('Mme', 'Mrs')\n",
    "    df['Title'] = df['Title'].replace('Ms', 'Miss')\n",
    "    df['Title'] = df['Title'].map({'Master': 0, 'Miss': 1, 'Mr': 2, 'Mrs':3, 'Other':4})\n",
    "\n",
    "    # Age\n",
    "    meanAge = df[['Title', 'Age']].groupby(['Title']).mean()\n",
    "    for index, row in meanAge.iterrows():\n",
    "        nullIndex = df[(df.Title == index) & (df.Age.isnull())].index\n",
    "        df.loc[nullIndex, 'Age'] = row[0]\n",
    "\n",
    "    df['AgeCategory'] = pd.qcut(df.Age, 8, labels=range(1, 9))\n",
    "    df.AgeCategory = df.AgeCategory.astype(int)\n",
    "\n",
    "    # Cabin\n",
    "    df.Cabin.fillna('N', inplace=True)\n",
    "    df[\"CabinCategory\"] = df[\"Cabin\"].str.slice(start=0, stop=1)\n",
    "    df[\"CabinCategory\"] = df['CabinCategory'].map({ \"N\": 0, \"C\": 1, \"B\": 2, \"D\": 3, \"E\": 4, \"A\": 5, \"F\": 6, \"G\": 7, \"T\": 8 })\n",
    "\n",
    "    # Fare\n",
    "    df.Fare.fillna(0, inplace=True)\n",
    "    df['FareCategory'] = pd.qcut(df.Fare, 8, labels=range(1, 9))\n",
    "    df.FareCategory = df.FareCategory.astype(int)\n",
    "\n",
    "    # SibSp, Parch\n",
    "    df['Family'] = df['SibSp'] + df['Parch'] + 1\n",
    "    df.loc[df[\"Family\"] > 4, \"Family\"] = 5\n",
    "\n",
    "    df['IsAlone'] = 1\n",
    "    df.loc[df['Family'] > 1, 'IsAlone'] = 0\n",
    "\n",
    "    # Ticket\n",
    "    df['TicketCategory'] = df.Ticket.str.split()\n",
    "    df['TicketCategory'] = [i[-1][0] for i in df['TicketCategory']]\n",
    "    df['TicketCategory'] = df['TicketCategory'].replace(['8', '9', 'L'], '8')\n",
    "    df['TicketCategory'] = pd.factorize(df['TicketCategory'])[0] + 1\n",
    "\n",
    "    df.drop(['PassengerId', 'Ticket', 'Cabin', 'Fare', 'Name', 'Age', 'SibSp', 'Parch'], axis=1, inplace=True)\n",
    "\n",
    "    return df\n",
    "\n",
    "train = feature_engineering(train)\n",
    "test = feature_engineering(test)\n",
    "\n",
    "train.info()\n",
    "test.info()"
   ]
  },
  {
   "cell_type": "code",
   "execution_count": 2,
   "id": "ebafe53f",
   "metadata": {},
   "outputs": [],
   "source": [
    "from sklearn.ensemble import RandomForestClassifier \n",
    "from sklearn.model_selection import train_test_split\n",
    "from sklearn.metrics import accuracy_score"
   ]
  },
  {
   "cell_type": "code",
   "execution_count": 3,
   "id": "865019bd",
   "metadata": {},
   "outputs": [],
   "source": [
    "data = train.drop('Survived', axis = 1).values\n",
    "target = train['Survived'].values"
   ]
  },
  {
   "cell_type": "code",
   "execution_count": 5,
   "id": "a5df1f26",
   "metadata": {},
   "outputs": [],
   "source": [
    "x_train, x_test, y_train, y_test = train_test_split(data, target, test_size=0.4, stratify=target, random_state=0)"
   ]
  },
  {
   "cell_type": "code",
   "execution_count": 6,
   "id": "1d551d5b",
   "metadata": {},
   "outputs": [],
   "source": [
    "rf = RandomForestClassifier(n_estimators=50, criterion='entropy', max_depth = 5, oob_score=True, random_state=10)"
   ]
  },
  {
   "cell_type": "code",
   "execution_count": 7,
   "id": "6e24c84d",
   "metadata": {},
   "outputs": [
    {
     "data": {
      "text/plain": [
       "RandomForestClassifier(criterion='entropy', max_depth=5, n_estimators=50,\n",
       "                       oob_score=True, random_state=10)"
      ]
     },
     "execution_count": 7,
     "metadata": {},
     "output_type": "execute_result"
    }
   ],
   "source": [
    "rf.fit(x_train, y_train)"
   ]
  },
  {
   "cell_type": "code",
   "execution_count": 8,
   "id": "238dbbe3",
   "metadata": {},
   "outputs": [],
   "source": [
    "prediction = rf.predict(x_test)"
   ]
  },
  {
   "cell_type": "code",
   "execution_count": 12,
   "id": "369074c8",
   "metadata": {},
   "outputs": [
    {
     "name": "stdout",
     "output_type": "stream",
     "text": [
      "총 357명 중 82.913% 정확도로 생존을 맞춤\n"
     ]
    }
   ],
   "source": [
    "length = y_test.shape[0]\n",
    "accuracy = accuracy_score(prediction, y_test)\n",
    "print(f'총 {length}명 중 {accuracy * 100:.3f}% 정확도로 생존을 맞춤')"
   ]
  },
  {
   "cell_type": "markdown",
   "id": "272574d3",
   "metadata": {},
   "source": [
    "### 랜덤 포레스트 검증 #2"
   ]
  },
  {
   "cell_type": "code",
   "execution_count": 13,
   "id": "db150f09",
   "metadata": {},
   "outputs": [],
   "source": [
    "from sklearn.model_selection import GridSearchCV\n",
    "from sklearn.model_selection import StratifiedKFold\n",
    "\n",
    "RF_classifier = RandomForestClassifier()\n",
    "\n",
    "RF_paramgrid = {\n",
    "    'max_depth' : [6, 8, 10, 15],\n",
    "    'n_estimators': [50, 100, 300, 500, 700, 800, 900],\n",
    "    'max_features': ['sqrt'],\n",
    "    'min_samples_split': [2, 7, 15, 30],\n",
    "    'min_samples_leaf': [1, 15, 30, 60],\n",
    "    'bootstrap': [True, False],\n",
    "    'criterion': ['gini', 'entropy']\n",
    "    }"
   ]
  },
  {
   "cell_type": "code",
   "execution_count": 14,
   "id": "63a82f83",
   "metadata": {},
   "outputs": [],
   "source": [
    "k_fold = StratifiedKFold(n_splits=5)"
   ]
  },
  {
   "cell_type": "code",
   "execution_count": 16,
   "id": "ea6db014",
   "metadata": {},
   "outputs": [],
   "source": [
    "RF_classifiergrid = GridSearchCV(RF_classifier, param_grid = RF_paramgrid, \\\n",
    "                                 cv=k_fold, scoring=\"accuracy\", n_jobs= -1, verbose=1)"
   ]
  },
  {
   "cell_type": "code",
   "execution_count": 17,
   "id": "ef735f86",
   "metadata": {},
   "outputs": [
    {
     "name": "stdout",
     "output_type": "stream",
     "text": [
      "Fitting 5 folds for each of 1792 candidates, totalling 8960 fits\n"
     ]
    },
    {
     "data": {
      "text/plain": [
       "GridSearchCV(cv=StratifiedKFold(n_splits=5, random_state=None, shuffle=False),\n",
       "             estimator=RandomForestClassifier(), n_jobs=-1,\n",
       "             param_grid={'bootstrap': [True, False],\n",
       "                         'criterion': ['gini', 'entropy'],\n",
       "                         'max_depth': [6, 8, 10, 15], 'max_features': ['sqrt'],\n",
       "                         'min_samples_leaf': [1, 15, 30, 60],\n",
       "                         'min_samples_split': [2, 7, 15, 30],\n",
       "                         'n_estimators': [50, 100, 300, 500, 700, 800, 900]},\n",
       "             scoring='accuracy', verbose=1)"
      ]
     },
     "execution_count": 17,
     "metadata": {},
     "output_type": "execute_result"
    }
   ],
   "source": [
    "RF_classifiergrid.fit(x_train, y_train)"
   ]
  },
  {
   "cell_type": "code",
   "execution_count": 18,
   "id": "fa4030d3",
   "metadata": {},
   "outputs": [],
   "source": [
    "rf = RF_classifiergrid.best_estimator_"
   ]
  },
  {
   "cell_type": "code",
   "execution_count": 19,
   "id": "b0e2cac4",
   "metadata": {},
   "outputs": [
    {
     "name": "stdout",
     "output_type": "stream",
     "text": [
      "0.8332921883265737\n"
     ]
    }
   ],
   "source": [
    "print(RF_classifiergrid.best_score_)"
   ]
  },
  {
   "cell_type": "code",
   "execution_count": 21,
   "id": "4064e714",
   "metadata": {},
   "outputs": [
    {
     "name": "stdout",
     "output_type": "stream",
     "text": [
      "{'bootstrap': True, 'criterion': 'entropy', 'max_depth': 8, 'max_features': 'sqrt', 'min_samples_leaf': 1, 'min_samples_split': 2, 'n_estimators': 800}\n"
     ]
    }
   ],
   "source": [
    "print(RF_classifiergrid.best_params_)"
   ]
  },
  {
   "cell_type": "code",
   "execution_count": 22,
   "id": "d7365d27",
   "metadata": {},
   "outputs": [
    {
     "name": "stdout",
     "output_type": "stream",
     "text": [
      "RandomForestClassifier(criterion='entropy', max_depth=8, max_features='sqrt',\n",
      "                       n_estimators=800)\n"
     ]
    }
   ],
   "source": [
    "print(RF_classifiergrid.best_estimator_)"
   ]
  },
  {
   "cell_type": "code",
   "execution_count": 23,
   "id": "05ceb6d9",
   "metadata": {},
   "outputs": [],
   "source": [
    "import matplotlib.pyplot as plt\n",
    "from pandas import Series"
   ]
  },
  {
   "cell_type": "code",
   "execution_count": 24,
   "id": "fce4459d",
   "metadata": {},
   "outputs": [],
   "source": [
    "feature_importance = rf.feature_importances_"
   ]
  },
  {
   "cell_type": "code",
   "execution_count": 26,
   "id": "1b76d51f",
   "metadata": {},
   "outputs": [],
   "source": [
    "fi = Series(feature_importance, index=train.drop(['Survived'], axis=1).columns)"
   ]
  },
  {
   "cell_type": "code",
   "execution_count": 27,
   "id": "695994b7",
   "metadata": {},
   "outputs": [
    {
     "data": {
      "image/png": "[encoded data removed]",
      "text/plain": [
       "<Figure size 576x576 with 1 Axes>"
      ]
     },
     "metadata": {
      "needs_background": "light"
     },
     "output_type": "display_data"
    }
   ],
   "source": [
    "plt.figure(figsize=(8, 8))\n",
    "fi.sort_values(ascending=True).plot.barh()\n",
    "plt.xlabel('Feature importance')\n",
    "plt.ylabel('Feature')\n",
    "plt.show()"
   ]
  },
  {
   "cell_type": "code",
   "execution_count": 28,
   "id": "2c597ddc",
   "metadata": {},
   "outputs": [],
   "source": [
    "from sklearn.linear_model import LogisticRegression\n",
    "from sklearn.ensemble import RandomForestClassifier\n",
    "from sklearn.svm import SVC\n",
    "from sklearn.neighbors import KNeighborsClassifier\n",
    "from sklearn.tree import DecisionTreeClassifier\n",
    "from sklearn.naive_bayes import GaussianNB\n",
    "\n",
    "from sklearn.model_selection import train_test_split\n",
    "from sklearn.metrics import accuracy_score"
   ]
  },
  {
   "cell_type": "code",
   "execution_count": 29,
   "id": "602504b7",
   "metadata": {},
   "outputs": [],
   "source": [
    "# data 분리 \n",
    "data = train.drop('Survived', axis=1).values\n",
    "target = train['Survived'].values\n",
    "x_train, x_valid, y_train, y_valid = train_test_split(data, target, test_size=0.4, stratify=target, random_state=0)"
   ]
  },
  {
   "cell_type": "code",
   "execution_count": 30,
   "id": "79a098d4",
   "metadata": {},
   "outputs": [],
   "source": [
    "def ml_fit(model):\n",
    "    model.fit(x_train, y_train)\n",
    "    prediction = model.predict(x_valid)\n",
    "    accuracy = accuracy_score(prediction, y_valid)\n",
    "    print(model)\n",
    "    print(f'총 {y_valid.shape[0]}명 중 {accuracy * 100:.3f}% 정확도로 생존을 맞춤')\n",
    "    return model"
   ]
  },
  {
   "cell_type": "code",
   "execution_count": 31,
   "id": "b9a84aea",
   "metadata": {},
   "outputs": [
    {
     "name": "stdout",
     "output_type": "stream",
     "text": [
      "RandomForestClassifier()\n",
      "총 357명 중 78.992% 정확도로 생존을 맞춤\n",
      "LogisticRegression()\n",
      "총 357명 중 79.832% 정확도로 생존을 맞춤\n",
      "SVC()\n",
      "총 357명 중 81.513% 정확도로 생존을 맞춤\n",
      "KNeighborsClassifier()\n",
      "총 357명 중 77.031% 정확도로 생존을 맞춤\n",
      "GaussianNB()\n",
      "총 357명 중 73.389% 정확도로 생존을 맞춤\n",
      "DecisionTreeClassifier()\n",
      "총 357명 중 76.751% 정확도로 생존을 맞춤\n"
     ]
    }
   ],
   "source": [
    "model = ml_fit(RandomForestClassifier(n_estimators=100))\n",
    "model = ml_fit(LogisticRegression(solver='lbfgs'))\n",
    "model = ml_fit(SVC(gamma='scale'))\n",
    "model = ml_fit(KNeighborsClassifier())\n",
    "model = ml_fit(GaussianNB())\n",
    "model = ml_fit(DecisionTreeClassifier())"
   ]
  },
  {
   "cell_type": "markdown",
   "id": "bd551d4c",
   "metadata": {},
   "source": [
    "=> 결과적으로 SVC가 제일 생존을 잘맞춤 "
   ]
  },
  {
   "cell_type": "code",
   "execution_count": 32,
   "id": "1f59232a",
   "metadata": {},
   "outputs": [
    {
     "name": "stdout",
     "output_type": "stream",
     "text": [
      "RandomForestClassifier(criterion='entropy', max_depth=5, n_estimators=50,\n",
      "                       oob_score=True, random_state=10)\n",
      "총 357명 중 82.913% 정확도로 생존을 맞춤\n"
     ]
    }
   ],
   "source": [
    "model = ml_fit(RandomForestClassifier(n_estimators=50, criterion=\"entropy\", max_depth=5, oob_score=True, random_state=10))"
   ]
  },
  {
   "cell_type": "code",
   "execution_count": 41,
   "id": "64a1b143",
   "metadata": {},
   "outputs": [
    {
     "data": {
      "text/plain": [
       "RandomForestClassifier(criterion='entropy', max_depth=8, max_features='sqrt',\n",
       "                       n_estimators=800)"
      ]
     },
     "execution_count": 41,
     "metadata": {},
     "output_type": "execute_result"
    }
   ],
   "source": [
    "rf"
   ]
  },
  {
   "cell_type": "code",
   "execution_count": 47,
   "id": "3802e941",
   "metadata": {},
   "outputs": [
    {
     "name": "stderr",
     "output_type": "stream",
     "text": [
      "/opt/homebrew/lib/python3.9/site-packages/sklearn/base.py:443: UserWarning: X has feature names, but RandomForestClassifier was fitted without feature names\n",
      "  warnings.warn(\n"
     ]
    }
   ],
   "source": [
    "prediction = rf.predict(test)"
   ]
  },
  {
   "cell_type": "code",
   "execution_count": 48,
   "id": "d71b611e",
   "metadata": {},
   "outputs": [],
   "source": [
    "submission = pd.read_csv(\"https://raw.githubusercontent.com/developer-sdk/kaggle-python-beginner/master/datas/kaggle-titanic/gender_submission.csv\")"
   ]
  },
  {
   "cell_type": "code",
   "execution_count": 49,
   "id": "974ceddd",
   "metadata": {},
   "outputs": [],
   "source": [
    "submission.Survived = prediction"
   ]
  },
  {
   "cell_type": "code",
   "execution_count": 50,
   "id": "3abd56a7",
   "metadata": {},
   "outputs": [],
   "source": [
    "submission.to_csv(r'titanic_submission_20220314_last.csv', index=False)"
   ]
  },
  {
   "cell_type": "code",
   "execution_count": null,
   "id": "07c89408",
   "metadata": {},
   "outputs": [],
   "source": []
  },
  {
   "cell_type": "code",
   "execution_count": null,
   "id": "6b068db7",
   "metadata": {},
   "outputs": [],
   "source": []
  },
  {
   "cell_type": "code",
   "execution_count": null,
   "id": "d13f398b",
   "metadata": {},
   "outputs": [],
   "source": []
  },
  {
   "cell_type": "code",
   "execution_count": null,
   "id": "ebc2d854",
   "metadata": {},
   "outputs": [],
   "source": []
  },
  {
   "cell_type": "code",
   "execution_count": null,
   "id": "70cc92ad",
   "metadata": {},
   "outputs": [],
   "source": []
  }
 ],
 "metadata": {
  "kernelspec": {
   "display_name": "Python 3 (ipykernel)",
   "language": "python",
   "name": "python3"
  },
  "language_info": {
   "codemirror_mode": {
    "name": "ipython",
    "version": 3
   },
   "file_extension": ".py",
   "mimetype": "text/x-python",
   "name": "python",
   "nbconvert_exporter": "python",
   "pygments_lexer": "ipython3",
   "version": "3.9.10"
  }
 },
 "nbformat": 4,
 "nbformat_minor": 5
}
