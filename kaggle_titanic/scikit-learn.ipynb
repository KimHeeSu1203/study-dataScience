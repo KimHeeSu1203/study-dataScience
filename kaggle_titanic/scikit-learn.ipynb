{
 "cells": [
  {
   "cell_type": "markdown",
   "id": "60fb548c",
   "metadata": {},
   "source": [
    "### scikit-learn은 파이썬으로 구현된 기계학습 라이브러리\n",
    "* 분류(Classification)\n",
    "Algorithms: SVM, nearest neighbors, random forest 등\n",
    "* 회귀(Regression)\n",
    "Algorithms: SVR, nearest neighbors, random forest 등\n",
    "* 군집(Clustering)\n",
    "Algorithms: k-Means, spectral clustering, mean-shift 등\n",
    "* 차원 축소(Dimensionality Reduction)\n",
    "Algorithms: k-Means, feature selection, non-negative matrix factorization 등\n",
    "* 모델 선택(Model selection)\n",
    "Algorithms: grid search, cross validation, metrics 등\n",
    "* 전처리(Preprocessing)\n",
    "Algorithms: preprocessing, feature extraction 등"
   ]
  },
  {
   "cell_type": "markdown",
   "id": "191a69e1",
   "metadata": {},
   "source": [
    "### 훈련용 시험용 데이터 분리: train_test_split"
   ]
  },
  {
   "cell_type": "code",
   "execution_count": 1,
   "id": "5f28e1fb",
   "metadata": {},
   "outputs": [],
   "source": [
    "import pandas as pd\n",
    "train = pd.read_csv(\"https://raw.githubusercontent.com/developer-sdk/kaggle-python-beginner/master/datas/kaggle-titanic/train.csv\")\n",
    "\n",
    "from sklearn.model_selection import train_test_split\n"
   ]
  },
  {
   "cell_type": "code",
   "execution_count": 2,
   "id": "bc735744",
   "metadata": {},
   "outputs": [
    {
     "data": {
      "text/html": [
       "<div>\n",
       "<style scoped>\n",
       "    .dataframe tbody tr th:only-of-type {\n",
       "        vertical-align: middle;\n",
       "    }\n",
       "\n",
       "    .dataframe tbody tr th {\n",
       "        vertical-align: top;\n",
       "    }\n",
       "\n",
       "    .dataframe thead th {\n",
       "        text-align: right;\n",
       "    }\n",
       "</style>\n",
       "<table border=\"1\" class=\"dataframe\">\n",
       "  <thead>\n",
       "    <tr style=\"text-align: right;\">\n",
       "      <th></th>\n",
       "      <th>PassengerId</th>\n",
       "      <th>Survived</th>\n",
       "      <th>Pclass</th>\n",
       "      <th>Name</th>\n",
       "      <th>Sex</th>\n",
       "      <th>Age</th>\n",
       "      <th>SibSp</th>\n",
       "      <th>Parch</th>\n",
       "      <th>Ticket</th>\n",
       "      <th>Fare</th>\n",
       "      <th>Cabin</th>\n",
       "      <th>Embarked</th>\n",
       "    </tr>\n",
       "  </thead>\n",
       "  <tbody>\n",
       "    <tr>\n",
       "      <th>0</th>\n",
       "      <td>1</td>\n",
       "      <td>0</td>\n",
       "      <td>3</td>\n",
       "      <td>Braund, Mr. Owen Harris</td>\n",
       "      <td>male</td>\n",
       "      <td>22.0</td>\n",
       "      <td>1</td>\n",
       "      <td>0</td>\n",
       "      <td>A/5 21171</td>\n",
       "      <td>7.2500</td>\n",
       "      <td>NaN</td>\n",
       "      <td>S</td>\n",
       "    </tr>\n",
       "    <tr>\n",
       "      <th>1</th>\n",
       "      <td>2</td>\n",
       "      <td>1</td>\n",
       "      <td>1</td>\n",
       "      <td>Cumings, Mrs. John Bradley (Florence Briggs Th...</td>\n",
       "      <td>female</td>\n",
       "      <td>38.0</td>\n",
       "      <td>1</td>\n",
       "      <td>0</td>\n",
       "      <td>PC 17599</td>\n",
       "      <td>71.2833</td>\n",
       "      <td>C85</td>\n",
       "      <td>C</td>\n",
       "    </tr>\n",
       "    <tr>\n",
       "      <th>2</th>\n",
       "      <td>3</td>\n",
       "      <td>1</td>\n",
       "      <td>3</td>\n",
       "      <td>Heikkinen, Miss. Laina</td>\n",
       "      <td>female</td>\n",
       "      <td>26.0</td>\n",
       "      <td>0</td>\n",
       "      <td>0</td>\n",
       "      <td>STON/O2. 3101282</td>\n",
       "      <td>7.9250</td>\n",
       "      <td>NaN</td>\n",
       "      <td>S</td>\n",
       "    </tr>\n",
       "    <tr>\n",
       "      <th>3</th>\n",
       "      <td>4</td>\n",
       "      <td>1</td>\n",
       "      <td>1</td>\n",
       "      <td>Futrelle, Mrs. Jacques Heath (Lily May Peel)</td>\n",
       "      <td>female</td>\n",
       "      <td>35.0</td>\n",
       "      <td>1</td>\n",
       "      <td>0</td>\n",
       "      <td>113803</td>\n",
       "      <td>53.1000</td>\n",
       "      <td>C123</td>\n",
       "      <td>S</td>\n",
       "    </tr>\n",
       "    <tr>\n",
       "      <th>4</th>\n",
       "      <td>5</td>\n",
       "      <td>0</td>\n",
       "      <td>3</td>\n",
       "      <td>Allen, Mr. William Henry</td>\n",
       "      <td>male</td>\n",
       "      <td>35.0</td>\n",
       "      <td>0</td>\n",
       "      <td>0</td>\n",
       "      <td>373450</td>\n",
       "      <td>8.0500</td>\n",
       "      <td>NaN</td>\n",
       "      <td>S</td>\n",
       "    </tr>\n",
       "  </tbody>\n",
       "</table>\n",
       "</div>"
      ],
      "text/plain": [
       "   PassengerId  Survived  Pclass  \\\n",
       "0            1         0       3   \n",
       "1            2         1       1   \n",
       "2            3         1       3   \n",
       "3            4         1       1   \n",
       "4            5         0       3   \n",
       "\n",
       "                                                Name     Sex   Age  SibSp  \\\n",
       "0                            Braund, Mr. Owen Harris    male  22.0      1   \n",
       "1  Cumings, Mrs. John Bradley (Florence Briggs Th...  female  38.0      1   \n",
       "2                             Heikkinen, Miss. Laina  female  26.0      0   \n",
       "3       Futrelle, Mrs. Jacques Heath (Lily May Peel)  female  35.0      1   \n",
       "4                           Allen, Mr. William Henry    male  35.0      0   \n",
       "\n",
       "   Parch            Ticket     Fare Cabin Embarked  \n",
       "0      0         A/5 21171   7.2500   NaN        S  \n",
       "1      0          PC 17599  71.2833   C85        C  \n",
       "2      0  STON/O2. 3101282   7.9250   NaN        S  \n",
       "3      0            113803  53.1000  C123        S  \n",
       "4      0            373450   8.0500   NaN        S  "
      ]
     },
     "execution_count": 2,
     "metadata": {},
     "output_type": "execute_result"
    }
   ],
   "source": [
    "train.head()"
   ]
  },
  {
   "cell_type": "code",
   "execution_count": 3,
   "id": "9cb381b8",
   "metadata": {},
   "outputs": [],
   "source": [
    "data = train.drop('Survived',axis=1).values"
   ]
  },
  {
   "cell_type": "code",
   "execution_count": 5,
   "id": "54e5f3fd",
   "metadata": {},
   "outputs": [],
   "source": [
    "target = train['Survived'].values"
   ]
  },
  {
   "cell_type": "code",
   "execution_count": 6,
   "id": "52e2f588",
   "metadata": {},
   "outputs": [],
   "source": [
    "# 파라미터\n",
    "#    test_size: 분리 비율\n",
    "#    startify: 데이터를 분리 하는 기준 값 \n",
    "#    random_state: 랜덤 시드 함수 \n",
    "# 반환 값\n",
    "#   x_train: 훈련용 셋의 x 좌표 값\n",
    "#   y_train: 훈련용 셋의 y 좌표 값(Survived 값)\n",
    "#   x_test: 시험용 셋의 x 좌표 값\n",
    "#   y_test: 시험용 셋의 y 좌표 값(Survived 값)\n",
    "x_train, x_test, y_train, y_test = train_test_split(data, target, test_size = 0.3, stratify=target, random_state=2018)"
   ]
  },
  {
   "cell_type": "code",
   "execution_count": null,
   "id": "253a8990",
   "metadata": {},
   "outputs": [],
   "source": [
    "## 이렇게 전체 shuffle하여 섞을 수도 있다 \n",
    "# import pandas as pd\n",
    "# train = pd.read_csv(\"https://raw.githubusercontent.com/developer-sdk/kaggle-python-beginner/master/datas/kaggle-titanic/train.csv\")\n",
    "# test = pd.read_csv(\"https://raw.githubusercontent.com/developer-sdk/kaggle-python-beginner/master/datas/kaggle-titanic/test.csv\")\n",
    "\n",
    "# from sklearn.utils import shuffle\n",
    "\n",
    "# # train 데이터를 섞음 \n",
    "# train = shuffle(train)\n",
    "\n",
    "# # train, test 데이터를 동시에 섞음 \n",
    "# train, test = shuffle(train, test, random_state=5)"
   ]
  },
  {
   "cell_type": "markdown",
   "id": "32d8b509",
   "metadata": {},
   "source": [
    "### Ensemble -> RandomForest"
   ]
  },
  {
   "cell_type": "code",
   "execution_count": 43,
   "id": "291ff77d",
   "metadata": {},
   "outputs": [],
   "source": [
    "import pandas as pd\n",
    "train = pd.read_csv(\"https://raw.githubusercontent.com/developer-sdk/kaggle-python-beginner/master/datas/kaggle-titanic/train.csv\")\n",
    "\n",
    "train= train[['Survived','Pclass','Sex','Age','Fare','Embarked']]"
   ]
  },
  {
   "cell_type": "code",
   "execution_count": 44,
   "id": "3ece710e",
   "metadata": {},
   "outputs": [
    {
     "data": {
      "text/html": [
       "<div>\n",
       "<style scoped>\n",
       "    .dataframe tbody tr th:only-of-type {\n",
       "        vertical-align: middle;\n",
       "    }\n",
       "\n",
       "    .dataframe tbody tr th {\n",
       "        vertical-align: top;\n",
       "    }\n",
       "\n",
       "    .dataframe thead th {\n",
       "        text-align: right;\n",
       "    }\n",
       "</style>\n",
       "<table border=\"1\" class=\"dataframe\">\n",
       "  <thead>\n",
       "    <tr style=\"text-align: right;\">\n",
       "      <th></th>\n",
       "      <th>Survived</th>\n",
       "      <th>Pclass</th>\n",
       "      <th>Sex</th>\n",
       "      <th>Age</th>\n",
       "      <th>Fare</th>\n",
       "      <th>Embarked</th>\n",
       "    </tr>\n",
       "  </thead>\n",
       "  <tbody>\n",
       "    <tr>\n",
       "      <th>0</th>\n",
       "      <td>0</td>\n",
       "      <td>3</td>\n",
       "      <td>male</td>\n",
       "      <td>22.0</td>\n",
       "      <td>7.2500</td>\n",
       "      <td>S</td>\n",
       "    </tr>\n",
       "    <tr>\n",
       "      <th>1</th>\n",
       "      <td>1</td>\n",
       "      <td>1</td>\n",
       "      <td>female</td>\n",
       "      <td>38.0</td>\n",
       "      <td>71.2833</td>\n",
       "      <td>C</td>\n",
       "    </tr>\n",
       "    <tr>\n",
       "      <th>2</th>\n",
       "      <td>1</td>\n",
       "      <td>3</td>\n",
       "      <td>female</td>\n",
       "      <td>26.0</td>\n",
       "      <td>7.9250</td>\n",
       "      <td>S</td>\n",
       "    </tr>\n",
       "    <tr>\n",
       "      <th>3</th>\n",
       "      <td>1</td>\n",
       "      <td>1</td>\n",
       "      <td>female</td>\n",
       "      <td>35.0</td>\n",
       "      <td>53.1000</td>\n",
       "      <td>S</td>\n",
       "    </tr>\n",
       "    <tr>\n",
       "      <th>4</th>\n",
       "      <td>0</td>\n",
       "      <td>3</td>\n",
       "      <td>male</td>\n",
       "      <td>35.0</td>\n",
       "      <td>8.0500</td>\n",
       "      <td>S</td>\n",
       "    </tr>\n",
       "  </tbody>\n",
       "</table>\n",
       "</div>"
      ],
      "text/plain": [
       "   Survived  Pclass     Sex   Age     Fare Embarked\n",
       "0         0       3    male  22.0   7.2500        S\n",
       "1         1       1  female  38.0  71.2833        C\n",
       "2         1       3  female  26.0   7.9250        S\n",
       "3         1       1  female  35.0  53.1000        S\n",
       "4         0       3    male  35.0   8.0500        S"
      ]
     },
     "execution_count": 44,
     "metadata": {},
     "output_type": "execute_result"
    }
   ],
   "source": [
    "train.head()"
   ]
  },
  {
   "cell_type": "code",
   "execution_count": 45,
   "id": "73d77d44",
   "metadata": {},
   "outputs": [],
   "source": [
    "# #########################\n",
    "# ... 데이터 전처리 진행 ...\n",
    "# #########################\n",
    "train['Sex'] = pd.factorize(train.Sex.astype(\"category\"))[0]"
   ]
  },
  {
   "cell_type": "code",
   "execution_count": 46,
   "id": "cce00019",
   "metadata": {},
   "outputs": [],
   "source": [
    "train['Embarked'] = pd.factorize(train.Embarked.astype(\"category\"))[0]"
   ]
  },
  {
   "cell_type": "code",
   "execution_count": 47,
   "id": "f993e629",
   "metadata": {},
   "outputs": [],
   "source": [
    "train.Age.ffill(inplace=True) ## 앞의 값으로 대충 채웠음 "
   ]
  },
  {
   "cell_type": "code",
   "execution_count": 48,
   "id": "58e74bd3",
   "metadata": {},
   "outputs": [],
   "source": [
    "from sklearn import metrics \n",
    "from sklearn.ensemble import RandomForestClassifier \n",
    "from sklearn.model_selection import train_test_split \n",
    "from sklearn.metrics import accuracy_score"
   ]
  },
  {
   "cell_type": "code",
   "execution_count": 49,
   "id": "59b94746",
   "metadata": {},
   "outputs": [],
   "source": [
    "# data = survived를 제외한 값\n",
    "# target = survived의 값 \n",
    "data = train.drop('Survived', axis=1).values\n",
    "target = train['Survived'].values\n",
    "\n",
    "# train과 valid(test) 셋을 분리 \n",
    "x_train, x_valid, y_train, y_valid = train_test_split(data, target, test_size=0.3, stratify=target, random_state=34)"
   ]
  },
  {
   "cell_type": "code",
   "execution_count": 50,
   "id": "78d7aedd",
   "metadata": {},
   "outputs": [
    {
     "data": {
      "text/plain": [
       "RandomForestClassifier(random_state=7654321)"
      ]
     },
     "execution_count": 50,
     "metadata": {},
     "output_type": "execute_result"
    }
   ],
   "source": [
    "rf = RandomForestClassifier(n_estimators=100, random_state=7654321)\n",
    "rf.fit(x_train, y_train)"
   ]
  },
  {
   "cell_type": "code",
   "execution_count": 51,
   "id": "a19df77b",
   "metadata": {},
   "outputs": [],
   "source": [
    "prediction = rf.predict(x_valid)"
   ]
  },
  {
   "cell_type": "code",
   "execution_count": 52,
   "id": "774a00d9",
   "metadata": {},
   "outputs": [],
   "source": [
    "accuracy = accuracy_score(prediction, y_valid)"
   ]
  },
  {
   "cell_type": "code",
   "execution_count": 53,
   "id": "e2c98377",
   "metadata": {},
   "outputs": [
    {
     "data": {
      "text/plain": [
       "0.7649253731343284"
      ]
     },
     "execution_count": 53,
     "metadata": {},
     "output_type": "execute_result"
    }
   ],
   "source": [
    "accuracy"
   ]
  },
  {
   "cell_type": "code",
   "execution_count": 54,
   "id": "26049eff",
   "metadata": {},
   "outputs": [
    {
     "name": "stdout",
     "output_type": "stream",
     "text": [
      "총 268명 중 76.493% 정확도로 생존을 맞춤\n"
     ]
    }
   ],
   "source": [
    "length = y_valid.shape[0]\n",
    "print(f'총 {length}명 중 {accuracy * 100:.3f}% 정확도로 생존을 맞춤')"
   ]
  },
  {
   "cell_type": "markdown",
   "id": "3ffebbe2",
   "metadata": {},
   "source": [
    "n_estimators=100, random_state=123456, length = 75.746%\n",
    "n_estimators=100, random_state=7654321 , length = 76.493%"
   ]
  }
 ],
 "metadata": {
  "kernelspec": {
   "display_name": "Python 3 (ipykernel)",
   "language": "python",
   "name": "python3"
  },
  "language_info": {
   "codemirror_mode": {
    "name": "ipython",
    "version": 3
   },
   "file_extension": ".py",
   "mimetype": "text/x-python",
   "name": "python",
   "nbconvert_exporter": "python",
   "pygments_lexer": "ipython3",
   "version": "3.9.10"
  }
 },
 "nbformat": 4,
 "nbformat_minor": 5
}
